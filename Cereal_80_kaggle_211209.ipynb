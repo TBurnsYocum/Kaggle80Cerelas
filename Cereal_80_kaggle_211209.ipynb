{
 "cells": [
  {
   "cell_type": "code",
   "execution_count": null,
   "id": "b46f5bb1",
   "metadata": {},
   "outputs": [],
   "source": [
    "#EDA on Kaggle's 80 Cereals dataset\n",
    "#tby 211209"
   ]
  },
  {
   "cell_type": "markdown",
   "id": "8dafd521",
   "metadata": {},
   "source": [
    "### Context\n",
    "You are hired as a data scientist for a Cereals Inc. You are tasked with understanding customer ratings of different cereals."
   ]
  },
  {
   "cell_type": "markdown",
   "id": "c21ad336",
   "metadata": {},
   "source": [
    "### Objective\n",
    "- Which manufacturer produces the most cereal?\n",
    "- Which cereal gets the highest ratings?\n",
    "- What factors (i.e., nutrition, shelf, weight, etc.) possibly influence this rating?"
   ]
  },
  {
   "cell_type": "markdown",
   "id": "eb3e66d0",
   "metadata": {},
   "source": [
    "### Data Dictionary\n",
    "Name: Name of cereal\n",
    "\n",
    "mfr: Manufacturer of cereal\n",
    "\n",
    "A = American Home Food Products;\n",
    "G = General Mills\n",
    "K = Kelloggs\n",
    "N = Nabisco\n",
    "P = Post\n",
    "Q = Quaker Oats\n",
    "R = Ralston Purina\n",
    "\n",
    "type:\n",
    "cold\n",
    "hot\n",
    "\n",
    "calories: calories per serving\n",
    "\n",
    "protein: grams of protein\n",
    "\n",
    "fat: grams of fat\n",
    "\n",
    "sodium: milligrams of sodium\n",
    "\n",
    "fiber: grams of dietary fiber\n",
    "\n",
    "carbo: grams of complex carbohydrates\n",
    "\n",
    "sugars: grams of sugars\n",
    "\n",
    "potass: milligrams of potassium\n",
    "\n",
    "vitamins: vitamins and minerals - 0, 25, or 100, indicating the typical percentage of FDA recommended\n",
    "\n",
    "shelf: display shelf (1, 2, or 3, counting from the floor)\n",
    "\n",
    "weight: weight in ounces of one serving\n",
    "\n",
    "cups: number of cups in one serving\n",
    "\n",
    "rating: a rating of the cereals (Possibly from Consumer Reports?)"
   ]
  },
  {
   "cell_type": "code",
   "execution_count": 1,
   "id": "831d1589",
   "metadata": {},
   "outputs": [],
   "source": [
    "#import the important packages\n",
    "import pandas as pd #library used for data manipulation and analysis\n",
    "import numpy as np # library used for working with arrays.\n",
    "import matplotlib.pyplot as plt # library for plots and visualisations\n",
    "import seaborn as sns # library for visualisations\n",
    "%matplotlib inline "
   ]
  },
  {
   "cell_type": "markdown",
   "id": "2f6aa255",
   "metadata": {},
   "source": [
    "### Getting a Sense of the Data"
   ]
  },
  {
   "cell_type": "code",
   "execution_count": 2,
   "id": "0c92eb06",
   "metadata": {
    "scrolled": true
   },
   "outputs": [
    {
     "data": {
      "text/html": [
       "<div>\n",
       "<style scoped>\n",
       "    .dataframe tbody tr th:only-of-type {\n",
       "        vertical-align: middle;\n",
       "    }\n",
       "\n",
       "    .dataframe tbody tr th {\n",
       "        vertical-align: top;\n",
       "    }\n",
       "\n",
       "    .dataframe thead th {\n",
       "        text-align: right;\n",
       "    }\n",
       "</style>\n",
       "<table border=\"1\" class=\"dataframe\">\n",
       "  <thead>\n",
       "    <tr style=\"text-align: right;\">\n",
       "      <th></th>\n",
       "      <th>name</th>\n",
       "      <th>mfr</th>\n",
       "      <th>type</th>\n",
       "      <th>calories</th>\n",
       "      <th>protein</th>\n",
       "      <th>fat</th>\n",
       "      <th>sodium</th>\n",
       "      <th>fiber</th>\n",
       "      <th>carbo</th>\n",
       "      <th>sugars</th>\n",
       "      <th>potass</th>\n",
       "      <th>vitamins</th>\n",
       "      <th>shelf</th>\n",
       "      <th>weight</th>\n",
       "      <th>cups</th>\n",
       "      <th>rating</th>\n",
       "    </tr>\n",
       "  </thead>\n",
       "  <tbody>\n",
       "    <tr>\n",
       "      <th>0</th>\n",
       "      <td>100% Bran</td>\n",
       "      <td>N</td>\n",
       "      <td>C</td>\n",
       "      <td>70</td>\n",
       "      <td>4</td>\n",
       "      <td>1</td>\n",
       "      <td>130</td>\n",
       "      <td>10.0</td>\n",
       "      <td>5.0</td>\n",
       "      <td>6</td>\n",
       "      <td>280</td>\n",
       "      <td>25</td>\n",
       "      <td>3</td>\n",
       "      <td>1.0</td>\n",
       "      <td>0.33</td>\n",
       "      <td>68.402973</td>\n",
       "    </tr>\n",
       "    <tr>\n",
       "      <th>1</th>\n",
       "      <td>100% Natural Bran</td>\n",
       "      <td>Q</td>\n",
       "      <td>C</td>\n",
       "      <td>120</td>\n",
       "      <td>3</td>\n",
       "      <td>5</td>\n",
       "      <td>15</td>\n",
       "      <td>2.0</td>\n",
       "      <td>8.0</td>\n",
       "      <td>8</td>\n",
       "      <td>135</td>\n",
       "      <td>0</td>\n",
       "      <td>3</td>\n",
       "      <td>1.0</td>\n",
       "      <td>1.00</td>\n",
       "      <td>33.983679</td>\n",
       "    </tr>\n",
       "    <tr>\n",
       "      <th>2</th>\n",
       "      <td>All-Bran</td>\n",
       "      <td>K</td>\n",
       "      <td>C</td>\n",
       "      <td>70</td>\n",
       "      <td>4</td>\n",
       "      <td>1</td>\n",
       "      <td>260</td>\n",
       "      <td>9.0</td>\n",
       "      <td>7.0</td>\n",
       "      <td>5</td>\n",
       "      <td>320</td>\n",
       "      <td>25</td>\n",
       "      <td>3</td>\n",
       "      <td>1.0</td>\n",
       "      <td>0.33</td>\n",
       "      <td>59.425505</td>\n",
       "    </tr>\n",
       "    <tr>\n",
       "      <th>3</th>\n",
       "      <td>All-Bran with Extra Fiber</td>\n",
       "      <td>K</td>\n",
       "      <td>C</td>\n",
       "      <td>50</td>\n",
       "      <td>4</td>\n",
       "      <td>0</td>\n",
       "      <td>140</td>\n",
       "      <td>14.0</td>\n",
       "      <td>8.0</td>\n",
       "      <td>0</td>\n",
       "      <td>330</td>\n",
       "      <td>25</td>\n",
       "      <td>3</td>\n",
       "      <td>1.0</td>\n",
       "      <td>0.50</td>\n",
       "      <td>93.704912</td>\n",
       "    </tr>\n",
       "    <tr>\n",
       "      <th>4</th>\n",
       "      <td>Almond Delight</td>\n",
       "      <td>R</td>\n",
       "      <td>C</td>\n",
       "      <td>110</td>\n",
       "      <td>2</td>\n",
       "      <td>2</td>\n",
       "      <td>200</td>\n",
       "      <td>1.0</td>\n",
       "      <td>14.0</td>\n",
       "      <td>8</td>\n",
       "      <td>-1</td>\n",
       "      <td>25</td>\n",
       "      <td>3</td>\n",
       "      <td>1.0</td>\n",
       "      <td>0.75</td>\n",
       "      <td>34.384843</td>\n",
       "    </tr>\n",
       "  </tbody>\n",
       "</table>\n",
       "</div>"
      ],
      "text/plain": [
       "                        name mfr type  calories  protein  fat  sodium  fiber  \\\n",
       "0                  100% Bran   N    C        70        4    1     130   10.0   \n",
       "1          100% Natural Bran   Q    C       120        3    5      15    2.0   \n",
       "2                   All-Bran   K    C        70        4    1     260    9.0   \n",
       "3  All-Bran with Extra Fiber   K    C        50        4    0     140   14.0   \n",
       "4             Almond Delight   R    C       110        2    2     200    1.0   \n",
       "\n",
       "   carbo  sugars  potass  vitamins  shelf  weight  cups     rating  \n",
       "0    5.0       6     280        25      3     1.0  0.33  68.402973  \n",
       "1    8.0       8     135         0      3     1.0  1.00  33.983679  \n",
       "2    7.0       5     320        25      3     1.0  0.33  59.425505  \n",
       "3    8.0       0     330        25      3     1.0  0.50  93.704912  \n",
       "4   14.0       8      -1        25      3     1.0  0.75  34.384843  "
      ]
     },
     "execution_count": 2,
     "metadata": {},
     "output_type": "execute_result"
    }
   ],
   "source": [
    "#load in the data\n",
    "df_cereal=pd.read_csv('cereal.csv')\n",
    "#see the first 5 rows\n",
    "df_cereal.head()"
   ]
  },
  {
   "cell_type": "markdown",
   "id": "2ed30811",
   "metadata": {},
   "source": [
    "### Insights\n",
    "- There appear to be a mix of numerical and categorical data types, all of which have been explained in the data dictionary above"
   ]
  },
  {
   "cell_type": "code",
   "execution_count": 9,
   "id": "fe793c4f",
   "metadata": {},
   "outputs": [
    {
     "name": "stdout",
     "output_type": "stream",
     "text": [
      "<class 'pandas.core.frame.DataFrame'>\n",
      "RangeIndex: 77 entries, 0 to 76\n",
      "Data columns (total 16 columns):\n",
      " #   Column    Non-Null Count  Dtype  \n",
      "---  ------    --------------  -----  \n",
      " 0   name      77 non-null     object \n",
      " 1   mfr       77 non-null     object \n",
      " 2   type      77 non-null     object \n",
      " 3   calories  77 non-null     int64  \n",
      " 4   protein   77 non-null     int64  \n",
      " 5   fat       77 non-null     int64  \n",
      " 6   sodium    77 non-null     int64  \n",
      " 7   fiber     77 non-null     float64\n",
      " 8   carbo     77 non-null     float64\n",
      " 9   sugars    77 non-null     int64  \n",
      " 10  potass    77 non-null     int64  \n",
      " 11  vitamins  77 non-null     int64  \n",
      " 12  shelf     77 non-null     int64  \n",
      " 13  weight    77 non-null     float64\n",
      " 14  cups      77 non-null     float64\n",
      " 15  rating    77 non-null     float64\n",
      "dtypes: float64(5), int64(8), object(3)\n",
      "memory usage: 9.8+ KB\n"
     ]
    }
   ],
   "source": [
    "#summary of the data\n",
    "df_cereal.info(verbose = True)"
   ]
  },
  {
   "cell_type": "code",
   "execution_count": 4,
   "id": "a3a6059e",
   "metadata": {},
   "outputs": [
    {
     "data": {
      "text/plain": [
       "(77, 16)"
      ]
     },
     "execution_count": 4,
     "metadata": {},
     "output_type": "execute_result"
    }
   ],
   "source": [
    "#check the shape of the data\n",
    "df_cereal.shape\n",
    "#77 rows and 16 columns"
   ]
  },
  {
   "cell_type": "code",
   "execution_count": 19,
   "id": "61d2eae4",
   "metadata": {},
   "outputs": [
    {
     "name": "stdout",
     "output_type": "stream",
     "text": [
      "the number of unique cereal names is 77\n"
     ]
    }
   ],
   "source": [
    "#check if there are repeating names\n",
    "print('the number of unique cereal names is',len(df_cereal['name'].unique()))"
   ]
  },
  {
   "cell_type": "code",
   "execution_count": 17,
   "id": "5486b407",
   "metadata": {},
   "outputs": [
    {
     "data": {
      "text/plain": [
       "name        0\n",
       "mfr         0\n",
       "type        0\n",
       "calories    0\n",
       "protein     0\n",
       "fat         0\n",
       "sodium      0\n",
       "fiber       0\n",
       "carbo       0\n",
       "sugars      0\n",
       "potass      0\n",
       "vitamins    0\n",
       "shelf       0\n",
       "weight      0\n",
       "cups        0\n",
       "rating      0\n",
       "dtype: int64"
      ]
     },
     "execution_count": 17,
     "metadata": {},
     "output_type": "execute_result"
    }
   ],
   "source": [
    "#are there any null values\n",
    "df_cereal.isna().sum()"
   ]
  },
  {
   "cell_type": "markdown",
   "id": "31abd909",
   "metadata": {},
   "source": [
    "### Insights\n",
    "- There are 77 rows, each row contains a unique cereal name and information\n",
    "- There are 16 columns, attributes which are listed in the data dictionary\n",
    "- There are no null values in this data set"
   ]
  },
  {
   "cell_type": "code",
   "execution_count": 12,
   "id": "882526eb",
   "metadata": {},
   "outputs": [],
   "source": [
    "#change objects to categories\n",
    "#we will see later if this was the right thing to do or not\n",
    "df_cereal.name = df_cereal.name .astype('category')\n",
    "df_cereal.mfr = df_cereal.mfr.astype('category')\n",
    "df_cereal.type= df_cereal.type.astype('category')\n",
    "\n",
    "#check the dataframe to make sure these changes were made\n",
    "#df_cereal.info(verbose = True)"
   ]
  },
  {
   "cell_type": "code",
   "execution_count": 11,
   "id": "b6dfa84b",
   "metadata": {},
   "outputs": [
    {
     "data": {
      "text/html": [
       "<div>\n",
       "<style scoped>\n",
       "    .dataframe tbody tr th:only-of-type {\n",
       "        vertical-align: middle;\n",
       "    }\n",
       "\n",
       "    .dataframe tbody tr th {\n",
       "        vertical-align: top;\n",
       "    }\n",
       "\n",
       "    .dataframe thead th {\n",
       "        text-align: right;\n",
       "    }\n",
       "</style>\n",
       "<table border=\"1\" class=\"dataframe\">\n",
       "  <thead>\n",
       "    <tr style=\"text-align: right;\">\n",
       "      <th></th>\n",
       "      <th>calories</th>\n",
       "      <th>protein</th>\n",
       "      <th>fat</th>\n",
       "      <th>sodium</th>\n",
       "      <th>fiber</th>\n",
       "      <th>carbo</th>\n",
       "      <th>sugars</th>\n",
       "      <th>potass</th>\n",
       "      <th>vitamins</th>\n",
       "      <th>shelf</th>\n",
       "      <th>weight</th>\n",
       "      <th>cups</th>\n",
       "      <th>rating</th>\n",
       "    </tr>\n",
       "  </thead>\n",
       "  <tbody>\n",
       "    <tr>\n",
       "      <th>count</th>\n",
       "      <td>77.000000</td>\n",
       "      <td>77.000000</td>\n",
       "      <td>77.000000</td>\n",
       "      <td>77.000000</td>\n",
       "      <td>77.000000</td>\n",
       "      <td>77.000000</td>\n",
       "      <td>77.000000</td>\n",
       "      <td>77.000000</td>\n",
       "      <td>77.000000</td>\n",
       "      <td>77.000000</td>\n",
       "      <td>77.000000</td>\n",
       "      <td>77.000000</td>\n",
       "      <td>77.000000</td>\n",
       "    </tr>\n",
       "    <tr>\n",
       "      <th>mean</th>\n",
       "      <td>106.883117</td>\n",
       "      <td>2.545455</td>\n",
       "      <td>1.012987</td>\n",
       "      <td>159.675325</td>\n",
       "      <td>2.151948</td>\n",
       "      <td>14.597403</td>\n",
       "      <td>6.922078</td>\n",
       "      <td>96.077922</td>\n",
       "      <td>28.246753</td>\n",
       "      <td>2.207792</td>\n",
       "      <td>1.029610</td>\n",
       "      <td>0.821039</td>\n",
       "      <td>42.665705</td>\n",
       "    </tr>\n",
       "    <tr>\n",
       "      <th>std</th>\n",
       "      <td>19.484119</td>\n",
       "      <td>1.094790</td>\n",
       "      <td>1.006473</td>\n",
       "      <td>83.832295</td>\n",
       "      <td>2.383364</td>\n",
       "      <td>4.278956</td>\n",
       "      <td>4.444885</td>\n",
       "      <td>71.286813</td>\n",
       "      <td>22.342523</td>\n",
       "      <td>0.832524</td>\n",
       "      <td>0.150477</td>\n",
       "      <td>0.232716</td>\n",
       "      <td>14.047289</td>\n",
       "    </tr>\n",
       "    <tr>\n",
       "      <th>min</th>\n",
       "      <td>50.000000</td>\n",
       "      <td>1.000000</td>\n",
       "      <td>0.000000</td>\n",
       "      <td>0.000000</td>\n",
       "      <td>0.000000</td>\n",
       "      <td>-1.000000</td>\n",
       "      <td>-1.000000</td>\n",
       "      <td>-1.000000</td>\n",
       "      <td>0.000000</td>\n",
       "      <td>1.000000</td>\n",
       "      <td>0.500000</td>\n",
       "      <td>0.250000</td>\n",
       "      <td>18.042851</td>\n",
       "    </tr>\n",
       "    <tr>\n",
       "      <th>25%</th>\n",
       "      <td>100.000000</td>\n",
       "      <td>2.000000</td>\n",
       "      <td>0.000000</td>\n",
       "      <td>130.000000</td>\n",
       "      <td>1.000000</td>\n",
       "      <td>12.000000</td>\n",
       "      <td>3.000000</td>\n",
       "      <td>40.000000</td>\n",
       "      <td>25.000000</td>\n",
       "      <td>1.000000</td>\n",
       "      <td>1.000000</td>\n",
       "      <td>0.670000</td>\n",
       "      <td>33.174094</td>\n",
       "    </tr>\n",
       "    <tr>\n",
       "      <th>50%</th>\n",
       "      <td>110.000000</td>\n",
       "      <td>3.000000</td>\n",
       "      <td>1.000000</td>\n",
       "      <td>180.000000</td>\n",
       "      <td>2.000000</td>\n",
       "      <td>14.000000</td>\n",
       "      <td>7.000000</td>\n",
       "      <td>90.000000</td>\n",
       "      <td>25.000000</td>\n",
       "      <td>2.000000</td>\n",
       "      <td>1.000000</td>\n",
       "      <td>0.750000</td>\n",
       "      <td>40.400208</td>\n",
       "    </tr>\n",
       "    <tr>\n",
       "      <th>75%</th>\n",
       "      <td>110.000000</td>\n",
       "      <td>3.000000</td>\n",
       "      <td>2.000000</td>\n",
       "      <td>210.000000</td>\n",
       "      <td>3.000000</td>\n",
       "      <td>17.000000</td>\n",
       "      <td>11.000000</td>\n",
       "      <td>120.000000</td>\n",
       "      <td>25.000000</td>\n",
       "      <td>3.000000</td>\n",
       "      <td>1.000000</td>\n",
       "      <td>1.000000</td>\n",
       "      <td>50.828392</td>\n",
       "    </tr>\n",
       "    <tr>\n",
       "      <th>max</th>\n",
       "      <td>160.000000</td>\n",
       "      <td>6.000000</td>\n",
       "      <td>5.000000</td>\n",
       "      <td>320.000000</td>\n",
       "      <td>14.000000</td>\n",
       "      <td>23.000000</td>\n",
       "      <td>15.000000</td>\n",
       "      <td>330.000000</td>\n",
       "      <td>100.000000</td>\n",
       "      <td>3.000000</td>\n",
       "      <td>1.500000</td>\n",
       "      <td>1.500000</td>\n",
       "      <td>93.704912</td>\n",
       "    </tr>\n",
       "  </tbody>\n",
       "</table>\n",
       "</div>"
      ],
      "text/plain": [
       "         calories    protein        fat      sodium      fiber      carbo  \\\n",
       "count   77.000000  77.000000  77.000000   77.000000  77.000000  77.000000   \n",
       "mean   106.883117   2.545455   1.012987  159.675325   2.151948  14.597403   \n",
       "std     19.484119   1.094790   1.006473   83.832295   2.383364   4.278956   \n",
       "min     50.000000   1.000000   0.000000    0.000000   0.000000  -1.000000   \n",
       "25%    100.000000   2.000000   0.000000  130.000000   1.000000  12.000000   \n",
       "50%    110.000000   3.000000   1.000000  180.000000   2.000000  14.000000   \n",
       "75%    110.000000   3.000000   2.000000  210.000000   3.000000  17.000000   \n",
       "max    160.000000   6.000000   5.000000  320.000000  14.000000  23.000000   \n",
       "\n",
       "          sugars      potass    vitamins      shelf     weight       cups  \\\n",
       "count  77.000000   77.000000   77.000000  77.000000  77.000000  77.000000   \n",
       "mean    6.922078   96.077922   28.246753   2.207792   1.029610   0.821039   \n",
       "std     4.444885   71.286813   22.342523   0.832524   0.150477   0.232716   \n",
       "min    -1.000000   -1.000000    0.000000   1.000000   0.500000   0.250000   \n",
       "25%     3.000000   40.000000   25.000000   1.000000   1.000000   0.670000   \n",
       "50%     7.000000   90.000000   25.000000   2.000000   1.000000   0.750000   \n",
       "75%    11.000000  120.000000   25.000000   3.000000   1.000000   1.000000   \n",
       "max    15.000000  330.000000  100.000000   3.000000   1.500000   1.500000   \n",
       "\n",
       "          rating  \n",
       "count  77.000000  \n",
       "mean   42.665705  \n",
       "std    14.047289  \n",
       "min    18.042851  \n",
       "25%    33.174094  \n",
       "50%    40.400208  \n",
       "75%    50.828392  \n",
       "max    93.704912  "
      ]
     },
     "execution_count": 11,
     "metadata": {},
     "output_type": "execute_result"
    }
   ],
   "source": [
    "#looking at the summary statistics of the dataframe with describe\n",
    "df_cereal.describe()"
   ]
  },
  {
   "cell_type": "markdown",
   "id": "816f85db",
   "metadata": {},
   "source": [
    "### Insights\n",
    "- Calories range from ~50 to ~160 with a mean of ~106, meaning despite the range, likely more cereals have more calories (i.e., closer to 160 than 50).\n",
    "- Protein has a very small range, showing that cereal often has a low and similar range of protein content.\n",
    "- Fat also has a small range, demonstrating that cereal often has a low and similar range of fat content.\n",
    "- Sodium has a very wide range from 0 to 320 with a mean of ~160.\n",
    "- Fiber ranges from 0 to 14, with a mean of ~2, meaning most cereals have a low fiber content.\n",
    "- Carbo is a bit confusing given there is a negative as the minimum and ranges to 23 carbs with a mean of ~15, meaning most cereals have a higher carb count.\n",
    "- Sugars range from no sugar to 15 sugar with a mean of ~7, so most cereals have a higher sugar content.\n",
    "- Potass raneg from -1 to 330, showing probably the widest range in the dataset.\n",
    "- Vitamins range from no vitamins present to 100 with a mean of ~28, likely meaning that more cereals have less vitamins on average.\n",
    "- Shelf has only three values 1,2,and 3. Mean is ~2.2 which means more items are on higher shelves, than lower shelves.\n",
    "- Weight in ounces of a serving range from ~0.5 to 1.5, which is likely due to the varying amount of cups in one serving (seen below).\n",
    "- Cups range from ~0.25 to 1.5, meaning there is quite a range in number of cups in one serving.\n",
    "- Rating ranges from ~18 to ~94 with a mean around ~43. Likely meaning more cereals are rated lower than higher."
   ]
  },
  {
   "cell_type": "markdown",
   "id": "68ea41f7",
   "metadata": {},
   "source": [
    "### Analysis"
   ]
  },
  {
   "cell_type": "markdown",
   "id": "1c555a36",
   "metadata": {},
   "source": [
    "### Objective 1: Which manufacturer produces the most cereal?"
   ]
  },
  {
   "cell_type": "code",
   "execution_count": 21,
   "id": "3cacae8b",
   "metadata": {},
   "outputs": [],
   "source": [
    "#to explore categorical variables\n",
    "def labeled_barplot(data, feature, perc=False, n=None):\n",
    "    \"\"\"\n",
    "    Barplot with percentage at the top\n",
    "\n",
    "    data: dataframe\n",
    "    feature: dataframe column\n",
    "    perc: whether to display percentages instead of count (default is False)\n",
    "    n: displays the top n category levels (default is None, i.e., display all levels)\n",
    "    \"\"\"\n",
    "\n",
    "    total = len(data[feature])  # length of the column\n",
    "    count = data[feature].nunique()\n",
    "    if n is None:\n",
    "        plt.figure(figsize=(count + 1, 5))\n",
    "    else:\n",
    "        plt.figure(figsize=(n + 1, 5))\n",
    "\n",
    "    plt.xticks(rotation=90, fontsize=15)\n",
    "    ax = sns.countplot(\n",
    "        data=data,\n",
    "        x=feature,\n",
    "        palette=\"Paired\",\n",
    "        order=data[feature].value_counts().index[:n].sort_values(),\n",
    "    )\n",
    "\n",
    "    for p in ax.patches:\n",
    "        if perc == True:\n",
    "            label = \"{:.1f}%\".format(\n",
    "                100 * p.get_height() / total\n",
    "            )  # percentage of each class of the category\n",
    "        else:\n",
    "            label = p.get_height()  # count of each level of the category\n",
    "\n",
    "        x = p.get_x() + p.get_width() / 2  # width of the plot\n",
    "        y = p.get_height()  # height of the plot\n",
    "\n",
    "        ax.annotate(\n",
    "            label,\n",
    "            (x, y),\n",
    "            ha=\"center\",\n",
    "            va=\"center\",\n",
    "            size=12,\n",
    "            xytext=(0, 5),\n",
    "            textcoords=\"offset points\",\n",
    "        )  # annotate the percentage\n",
    "\n",
    "    plt.show()  # show the plot"
   ]
  },
  {
   "cell_type": "code",
   "execution_count": 22,
   "id": "ee10387d",
   "metadata": {},
   "outputs": [
    {
     "data": {
      "text/plain": [
       "<Figure size 720x504 with 0 Axes>"
      ]
     },
     "metadata": {},
     "output_type": "display_data"
    },
    {
     "data": {
      "image/png": "[encoded data removed]",
      "text/plain": [
       "<Figure size 576x360 with 1 Axes>"
      ]
     },
     "metadata": {
      "needs_background": "light"
     },
     "output_type": "display_data"
    }
   ],
   "source": [
    "plt.figure(figsize=(10,7))\n",
    "labeled_barplot(df_cereal, 'mfr', perc=True)"
   ]
  },
  {
   "cell_type": "markdown",
   "id": "13e4c4f9",
   "metadata": {},
   "source": [
    "### Insights\n",
    "- There are 7 different manufacturers in this dataset\n",
    "- The cereal market appers to be dominated by two manufacturers (General Mills and Kellog)\n",
    "- These two manufactueres alone make up over half of the cereals on the market\n",
    "- Kellogs makes the most cereals (at ~30 percent) and General Mills makes the second most (at ~29%)\n",
    "- American Home Food Products makes the least amount of cereal at ~1%"
   ]
  },
  {
   "cell_type": "markdown",
   "id": "aaceaa3f",
   "metadata": {},
   "source": [
    "### Objective 2: Which cereal has the highest ratings?"
   ]
  },
  {
   "cell_type": "code",
   "execution_count": 26,
   "id": "0444bb6a",
   "metadata": {},
   "outputs": [],
   "source": [
    "#to do univariate analysis I am going to make a histogram and box plot\n",
    "#this will aid in looking at the central tendency of the data and dispersion of each variable\n",
    "def histogram_boxplot(data, feature, figsize=(12, 7), kde=False, bins=None):\n",
    "    \"\"\"\n",
    "    Boxplot and histogram combined\n",
    "\n",
    "    data: dataframe\n",
    "    feature: dataframe column\n",
    "    figsize: size of figure (default (12,7))\n",
    "    kde: whether to show the density curve (default False)\n",
    "    bins: number of bins for histogram (default None)\n",
    "    \"\"\"\n",
    "    f2, (ax_box2, ax_hist2) = plt.subplots(\n",
    "        nrows=2,  # Number of rows of the subplot grid= 2\n",
    "        sharex=True,  # x-axis will be shared among all subplots\n",
    "        gridspec_kw={\"height_ratios\": (0.25, 0.75)},\n",
    "        figsize=figsize,\n",
    "    )  # creating the 2 subplots\n",
    "    sns.boxplot(\n",
    "        data=data, x=feature, ax=ax_box2, showmeans=True, color=\"lightsteelblue\"\n",
    "    )  # boxplot will be created and a star will indicate the mean value of the column\n",
    "    sns.histplot(\n",
    "        data=data, x=feature, kde=kde, ax=ax_hist2, bins=bins, color=\"lightsteelblue\"\n",
    "    ) if bins else sns.histplot(\n",
    "        data=data, x=feature, kde=kde, ax=ax_hist2, color=\"lightsteelblue\"\n",
    "    )  # For histogram\n",
    "    ax_hist2.axvline(\n",
    "        data[feature].mean(), color=\"green\", linestyle=\"--\"\n",
    "    )  # Add mean to the histogram\n",
    "    ax_hist2.axvline(\n",
    "        data[feature].median(), color=\"black\", linestyle=\"-\"\n",
    "    )  # Add median to the histogram"
   ]
  },
  {
   "cell_type": "code",
   "execution_count": 23,
   "id": "2bce1138",
   "metadata": {},
   "outputs": [
    {
     "data": {
      "text/plain": [
       "39.259197    1\n",
       "46.895644    1\n",
       "49.787445    1\n",
       "51.592193    1\n",
       "37.136863    1\n",
       "            ..\n",
       "37.840594    1\n",
       "34.384843    1\n",
       "49.120253    1\n",
       "31.230054    1\n",
       "58.345141    1\n",
       "Name: rating, Length: 77, dtype: int64"
      ]
     },
     "execution_count": 23,
     "metadata": {},
     "output_type": "execute_result"
    }
   ],
   "source": [
    "#first, let's get a sense of what the ratings data looks like\n",
    "df_cereal['rating'].value_counts()"
   ]
  },
  {
   "cell_type": "code",
   "execution_count": 25,
   "id": "b7a9a58d",
   "metadata": {},
   "outputs": [
    {
     "data": {
      "image/png": "[encoded data removed]",
      "text/plain": [
       "<Figure size 864x504 with 2 Axes>"
      ]
     },
     "metadata": {
      "needs_background": "light"
     },
     "output_type": "display_data"
    }
   ],
   "source": [
    "histogram_boxplot(df_cereal, 'rating')"
   ]
  },
  {
   "cell_type": "markdown",
   "id": "854a2f5a",
   "metadata": {},
   "source": [
    "### Insights\n",
    "- There is one outlier in this data set, a cereal which was really highly rated, as compared to the other cereals\n",
    "- The dat is slightly left skewed with the mean being a little more than the median\n",
    "- Overall, it looks like people tend to rate their cereals under the number 40"
   ]
  },
  {
   "cell_type": "code",
   "execution_count": 27,
   "id": "3dd7fbc4",
   "metadata": {},
   "outputs": [
    {
     "data": {
      "text/plain": [
       "name        All-Bran with Extra Fiber\n",
       "mfr                                 K\n",
       "type                                C\n",
       "calories                           50\n",
       "protein                             4\n",
       "fat                                 0\n",
       "sodium                            140\n",
       "fiber                            14.0\n",
       "carbo                             8.0\n",
       "sugars                              0\n",
       "potass                            330\n",
       "vitamins                           25\n",
       "shelf                               3\n",
       "weight                            1.0\n",
       "cups                              0.5\n",
       "rating                      93.704912\n",
       "Name: 3, dtype: object"
      ]
     },
     "execution_count": 27,
     "metadata": {},
     "output_type": "execute_result"
    }
   ],
   "source": [
    "#which cereal is rated the highest and what info do we have about it\n",
    "df_cereal.iloc[df_cereal['rating'].idxmax(),:]"
   ]
  },
  {
   "cell_type": "markdown",
   "id": "64542143",
   "metadata": {},
   "source": [
    "### Insight\n",
    "- All-Bran with Extra Fiber is the most highly rated cereal (and the outlier we saw in the graph above)"
   ]
  },
  {
   "cell_type": "markdown",
   "id": "1f5a5d31",
   "metadata": {},
   "source": [
    "### Exploratory Data Analysis of Rating"
   ]
  },
  {
   "cell_type": "code",
   "execution_count": null,
   "id": "ff13e094",
   "metadata": {},
   "outputs": [],
   "source": [
    "df_type_A = df_cereal[df_cereal['mfr'] == 'A'].value_counts().sum()\n",
    "df_type_G = df_cereal[df_cereal['mfr'] == 'G'].value_counts().sum()\n",
    "df_type_K = df_cereal[df_cereal['mfr'] == 'K'].value_counts().sum()\n",
    "df_type_N = df_cereal[df_cereal['mfr'] == 'N'].value_counts().sum()\n",
    "df_type_P = df_cereal[df_cereal['mfr'] == 'P'].value_counts().sum()\n",
    "df_type_Q = df_cereal[df_cereal['mfr'] == 'Q'].value_counts().sum()\n",
    "df_type_R = df_cereal[df_cereal['mfr'] == 'R'].value_counts().sum()\n",
    "#print the results\n",
    "print('The number of cereals from A is', df_type_A)\n",
    "print('The number of cereals from G is', df_type_G)\n",
    "print('The number of cereals from K is', df_type_K)\n",
    "print('The number of cereals from N is', df_type_N)\n",
    "print('The number of cereals from P is', df_type_P)\n",
    "print('The number of cereals from Q is', df_type_Q)\n",
    "print('The number of cereals from R is', df_type_R)"
   ]
  },
  {
   "cell_type": "code",
   "execution_count": 30,
   "id": "5be6f062",
   "metadata": {},
   "outputs": [
    {
     "data": {
      "image/png": "[encoded data removed]",
      "text/plain": [
       "<Figure size 1080x504 with 1 Axes>"
      ]
     },
     "metadata": {
      "needs_background": "light"
     },
     "output_type": "display_data"
    }
   ],
   "source": [
    "#is a higher rating related to the manufacturer of cereal\n",
    "plt.figure(figsize=(15, 7))\n",
    "sns.pointplot(x = 'mfr', y = 'rating', data = df_cereal)\n",
    "plt.show()"
   ]
  },
  {
   "cell_type": "markdown",
   "id": "64c6dac3",
   "metadata": {},
   "source": [
    "### Insights\n",
    "- Nabisco has the highest rating, followed by American Home Food, with General Mills having the lowest rating\n",
    "- However, the number of cereals each produces are imbalanced and these results should be interpreted with caution"
   ]
  },
  {
   "cell_type": "code",
   "execution_count": 41,
   "id": "345c3157",
   "metadata": {},
   "outputs": [
    {
     "name": "stdout",
     "output_type": "stream",
     "text": [
      "The number of hot cereals is  3\n",
      "The number of cold cereals is  74\n"
     ]
    }
   ],
   "source": [
    "#how many cold and how many hot cereals are there\n",
    "df_type_cold = df_cereal[df_cereal['type'] == 'C'].value_counts().sum()\n",
    "df_type_hot = df_cereal[df_cereal['type'] == 'H'].value_counts().sum()\n",
    "print('The number of hot cereals is ', df_type_hot)\n",
    "print('The number of cold cereals is ', df_type_cold)"
   ]
  },
  {
   "cell_type": "code",
   "execution_count": 31,
   "id": "e413d44b",
   "metadata": {},
   "outputs": [
    {
     "data": {
      "image/png": "[encoded data removed]",
      "text/plain": [
       "<Figure size 1080x504 with 1 Axes>"
      ]
     },
     "metadata": {
      "needs_background": "light"
     },
     "output_type": "display_data"
    }
   ],
   "source": [
    "#is a higher rating related to the type of cereal\n",
    "plt.figure(figsize=(15, 7))\n",
    "sns.pointplot(x = 'type', y = 'rating', data = df_cereal)\n",
    "plt.show()"
   ]
  },
  {
   "cell_type": "markdown",
   "id": "7165f7d7",
   "metadata": {},
   "source": [
    "### Insights\n",
    "- Hot cereals are rated higher than cold cereals, but this should be taken lighlty because there are only 3 hot cereals"
   ]
  },
  {
   "cell_type": "code",
   "execution_count": 28,
   "id": "c1ba6a7a",
   "metadata": {},
   "outputs": [
    {
     "data": {
      "image/png": "[encoded data removed]",
      "text/plain": [
       "<Figure size 1080x504 with 2 Axes>"
      ]
     },
     "metadata": {
      "needs_background": "light"
     },
     "output_type": "display_data"
    }
   ],
   "source": [
    "#run a correlation matrix\n",
    "#correlation matrix between all numeric variables\n",
    "num_var = ['calories','protein','fat','sodium','fiber','carbo','sugars','potass','vitamins','shelf','weight','cups','rating']\n",
    "\n",
    "#call the correlation function and assign to variable corr so not writing over anything and easier to pass through\n",
    "#the heatmap function\n",
    "corr = df_cereal[num_var].corr()\n",
    "\n",
    "# plot the heatmap\n",
    "plt.figure(figsize=(15, 7))\n",
    "sns.heatmap(corr, annot=True, vmin=-1, vmax=1, fmt=\".2f\", cmap=\"Blues\", xticklabels=corr.columns, yticklabels=corr.columns)\n",
    "plt.show()"
   ]
  },
  {
   "cell_type": "markdown",
   "id": "5ce8f0f8",
   "metadata": {},
   "source": [
    "### Insights\n",
    "- We are really interested in what corrrelats with ratings to get a better sense of what may influence ratings\n",
    "- Factors that are moderately, positively related to ratings are amount of protein and fiber\n",
    "- Factors that are moderately, negatively related to ratings are calories and sugars"
   ]
  },
  {
   "cell_type": "markdown",
   "id": "c716f76c",
   "metadata": {},
   "source": [
    "### Conclusion\n",
    "- I analyzed 80 cereals from 7 different manufacturers\n",
    "- General Mills and Kellogs are the biggest cereal producers on the market (from this dataset)\n",
    "- All-Bran with Extra Fiber is the most highly rated cereal at ~93%\n",
    "- Nutritional content may have an influence on cereal's ratings"
   ]
  },
  {
   "cell_type": "markdown",
   "id": "40c8efbc",
   "metadata": {},
   "source": [
    "### Business Recommendations\n",
    "- To increase ratings, produce cereals that are lower in calories and sugars, and higher in protein and fiber"
   ]
  }
 ],
 "metadata": {
  "kernelspec": {
   "display_name": "Python 3",
   "language": "python",
   "name": "python3"
  },
  "language_info": {
   "codemirror_mode": {
    "name": "ipython",
    "version": 3
   },
   "file_extension": ".py",
   "mimetype": "text/x-python",
   "name": "python",
   "nbconvert_exporter": "python",
   "pygments_lexer": "ipython3",
   "version": "3.8.8"
  }
 },
 "nbformat": 4,
 "nbformat_minor": 5
}
